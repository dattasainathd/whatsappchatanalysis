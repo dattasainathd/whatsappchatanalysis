{
 "cells": [
  {
   "cell_type": "code",
   "execution_count": null,
   "metadata": {
    "collapsed": true
   },
   "outputs": [],
   "source": [
    "# import all the required packages\n",
    "import re\n",
    "import matplotlib.pyplot as plt\n",
    "import numpy as np\n",
    "import pandas as pd\n",
    "import numpy as np\n",
    "from collections import Counter\n",
    "from os import path\n",
    "from PIL import Image\n",
    "from wordcloud import WordCloud, STOPWORDS"
   ]
  },
  {
   "cell_type": "code",
   "execution_count": null,
   "metadata": {},
   "outputs": [],
   "source": [
    "# Open whatsapp chat which is named as _chat by default\n",
    "with open('_chat.txt') as f:\n",
    "    lines = [line.rstrip('\\n') for line in f]"
   ]
  },
  {
   "cell_type": "code",
   "execution_count": null,
   "metadata": {
    "collapsed": true
   },
   "outputs": [],
   "source": [
    "# we are slippting every line using ']' as the splitter\n",
    "# this create a list which has date time stamp and message of the persons alternatively\n",
    "new_split_lines = []\n",
    "for line in lines:\n",
    "    line = line.strip()\n",
    "    new_split_lines.extend(re.split(']',line))  "
   ]
  },
  {
   "cell_type": "code",
   "execution_count": null,
   "metadata": {
    "collapsed": true
   },
   "outputs": [],
   "source": [
    "# this will just strip any trailling and leading spaces for all the members in the list\n",
    "for i in np.arange(0, len(new_split_lines)):\n",
    "    new_split_lines[i] = new_split_lines[i].strip()  "
   ]
  },
  {
   "cell_type": "code",
   "execution_count": null,
   "metadata": {},
   "outputs": [],
   "source": [
    "# this is used to know about number of messages send by each user and number of timestamps\n",
    "time_list = []\n",
    "persons_list = []\n",
    "person1_list = []\n",
    "person2_list = []\n",
    "\n",
    "person1 = '<person1_name in the chat>'\n",
    "person2 = '<person2_name in the chat>'\n",
    "\n",
    "count_empty_lines = 0.0\n",
    "old_split_lines = new_split_lines.copy()\n",
    "p1 = 0\n",
    "p2 = 0\n",
    "\n",
    "for line in old_split_lines:\n",
    "    if len(line) == 0:\n",
    "        count_empty_lines += 1 #610\n",
    "        continue\n",
    "    if line[0] == '[':\n",
    "        if(line[-3:] in (' AM', ' PM')):\n",
    "            time_list.append(line[-((len(line))-1):])\n",
    "    else:\n",
    "        line = line.strip()\n",
    "        if(str(line[:len(person1)]) == person1):\n",
    "            p1 = 1\n",
    "            p2 = 0\n",
    "            person1_list.append(line)\n",
    "        elif(str(line[:len(person2)]) == person2):\n",
    "            p1 = 0\n",
    "            p2 = 1\n",
    "            person2_list.append(line)\n",
    "        else:\n",
    "            if p1:\n",
    "                person1_list.append(line) \n",
    "            if p2:\n",
    "                person2_list.append(line)\n",
    "print(person1 ,\" messages: \", len(person1_list), sep=\"\")\n",
    "print(person2, \" messages: \", len(person2_list)) \n",
    "print(\"Number of time stamps: \", len(time_list)) "
   ]
  },
  {
   "cell_type": "code",
   "execution_count": null,
   "metadata": {},
   "outputs": [],
   "source": [
    "# this block of code is used to create same length for person 1 messages and person 2 messages\n",
    "# w.r.t. number of time stamps by introducing empty strings in the lists when the person has not message\n",
    "# for that time stamp.\n",
    "time_list = []\n",
    "persons_list = []\n",
    "person1_list = []\n",
    "person2_list = []\n",
    "old_split_lines = []\n",
    "old_split_lines1 = new_split_lines.copy()\n",
    "p1 = 0\n",
    "p2 = 0\n",
    "\n",
    "for index in range(0, len(old_split_lines1)):\n",
    "    line = old_split_lines1[index]\n",
    "    if len(line) == 0:\n",
    "        continue\n",
    "    old_split_lines.append(line)\n",
    "    \n",
    "index = 0\n",
    "while(index != len(old_split_lines)):\n",
    "    line = old_split_lines[index]\n",
    "    if line[0] == '[':\n",
    "        if(line[-3:] in (' AM', ' PM')):\n",
    "            time_list.append(line[-((len(line))-1):])\n",
    "        index += 1\n",
    "        line = old_split_lines[index]\n",
    "        p1_line = \"\"\n",
    "        p2_line = \"\"\n",
    "        while((line[-3:] not in (' AM', ' PM'))):\n",
    "            line = old_split_lines[index]\n",
    "            line = line.strip()\n",
    "            if(str(line[:len(person1)]) == person1):\n",
    "                p1 = 1\n",
    "                p2 = 0\n",
    "                p1_line += line + \" \"\n",
    "                index += 1\n",
    "            elif(str(line[:len(person2)]) == person2):\n",
    "                p1 = 0\n",
    "                p2 = 1\n",
    "                p2_line += line + \" \"\n",
    "                index += 1\n",
    "            else:\n",
    "                if p1:\n",
    "                    p1_line += line + \" \"\n",
    "                    index += 1\n",
    "                if p2:\n",
    "                    p2_line += line + \" \"\n",
    "                    index += 1\n",
    "            if(index == len(old_split_lines)):\n",
    "                break\n",
    "            line = old_split_lines[index]\n",
    "        if(len(p1_line) == 0):\n",
    "            person1_list.append(\"NNN/AAA\")\n",
    "            p2_line = p2_line[len(person2)+2:len(p2_line)]\n",
    "            person2_list.append(p2_line)\n",
    "        if(len(p2_line) == 0):\n",
    "            p1_line = p1_line[len(person1)+2:len(p1_line)]\n",
    "            person1_list.append(p1_line)\n",
    "            person2_list.append(\"NNN/AAA\")\n",
    "        if(index == len(old_split_lines)):\n",
    "                break\n",
    "        if(old_split_lines[index][0]!=\"[\"):\n",
    "            index += 1\n",
    "            continue\n",
    "    else:\n",
    "     index += 1 \n",
    "\n",
    "print(len(time_list))\n",
    "print(len(person1_list))\n",
    "print(len(person2_list))"
   ]
  },
  {
   "cell_type": "code",
   "execution_count": null,
   "metadata": {
    "collapsed": true,
    "scrolled": true
   },
   "outputs": [],
   "source": [
    "se1 = pd.Series(time_list)\n",
    "se2 = pd.Series(person1_list)\n",
    "se3 = pd.Series(person2_list)\n",
    "df = pd.DataFrame()\n",
    "df['time'] = se1.values\n",
    "df['person1'] = se2.values\n",
    "df['person2'] = se3.values\n",
    "df = df.replace('NNN/AAA',np.NaN)"
   ]
  },
  {
   "cell_type": "code",
   "execution_count": null,
   "metadata": {
    "collapsed": true,
    "scrolled": true
   },
   "outputs": [],
   "source": [
    "# converting time column which was in string to a pandas datatime column\n",
    "df['time'] = pd.to_datetime(df['time'])\n",
    "# converting datetime to timeindex in IST\n",
    "df_timeindex = pd.DatetimeIndex(df['time']).tz_localize('UTC').tz_convert('Asia/Kolkata')"
   ]
  },
  {
   "cell_type": "code",
   "execution_count": null,
   "metadata": {
    "collapsed": true,
    "scrolled": true
   },
   "outputs": [],
   "source": [
    "df_person1 = pd.DataFrame({'date_time': df_timeindex})\n",
    "df_person1['date_time'] = pd.to_datetime(df_person1['date_time'])\n",
    "df_person1['person'] = df['person1'].copy()\n",
    "df_person1 = df_person1.dropna(axis=0, how='any')\n",
    "df_person1.index = df_person1['date_time']\n",
    "del(df_person1['date_time'])\n",
    "df_person1['message'] = 1"
   ]
  },
  {
   "cell_type": "code",
   "execution_count": null,
   "metadata": {
    "collapsed": true
   },
   "outputs": [],
   "source": [
    "df_person2 = pd.DataFrame({'date_time': df_timeindex})\n",
    "df_person2['date_time'] = pd.to_datetime(df_person2['date_time'])\n",
    "df_person2['person'] = df['person2'].copy()\n",
    "df_person2 = df_person2.dropna(axis=0, how='any')\n",
    "df_person2.index = df_person2['date_time']\n",
    "del(df_person2['date_time'])\n",
    "df_person2['message'] = 1"
   ]
  },
  {
   "cell_type": "code",
   "execution_count": null,
   "metadata": {
    "collapsed": true
   },
   "outputs": [],
   "source": [
    "number_of_words = [] # number of words in a message\n",
    "words = [] # stores message words in a list\n",
    "for row in df_person1['person']:\n",
    "    row = row.rstrip()\n",
    "    data = re.split(' ',row)\n",
    "    number_of_words.append(len(data))\n",
    "    words.append(data)\n",
    "    \n",
    "df_person1['words'] = words\n",
    "df_person1['number_of_words'] = number_of_words\n",
    "\n",
    "number_of_words = [] # number of words in a message\n",
    "words = [] # stores message words in a list\n",
    "for row in df_person2['person']:\n",
    "    row = row.rstrip()\n",
    "    data = re.split(' ',row)\n",
    "    number_of_words.append(len(data))\n",
    "    words.append(data)\n",
    "    \n",
    "df_person2['words'] = words\n",
    "df_person2['number_of_words'] = number_of_words"
   ]
  },
  {
   "cell_type": "code",
   "execution_count": null,
   "metadata": {},
   "outputs": [],
   "source": [
    "#Analysis of Data\n",
    "\n",
    "print(\"Duration of Data: \")\n",
    "print(\"Start Date: \", df['time'][0])\n",
    "print(\"End Date: \", df['time'][len(df)-1])\n",
    "\n",
    "total_messages_person1 = np.sum(df_person1['message'])\n",
    "total_messages_person2 = np.sum(df_person2['message'])\n",
    "total_messages = total_messages_person1 + total_messages_person2\n",
    "print(\"Total number of messages: \", total_messages)\n",
    "print(\"Total number of messages sent by \", person1, \": \", total_messages_person1)\n",
    "print(\"Percentage of messages sent by \", person1, \": \", (total_messages_person1/total_messages)*100)\n",
    "print(\"Total number of messages sent by \", person2, \": \", total_messages_person2)\n",
    "print(\"Percentage of messages sent by \", person2, \": \", (total_messages_person2/total_messages)*100)\n",
    "\n",
    "total_words_person1 = np.sum(df_person1['number_of_words'])\n",
    "total_words_person2 = np.sum(df_person2['number_of_words'])\n",
    "total_words = total_words_person1 + total_words_person2\n",
    "print(\"Total number of words in all messages: \", total_words)\n",
    "print(\"Total number of words sent by \", person1, \": \", total_words_person1)\n",
    "print(\"Percentage of words sent by \", person1, \": \", (total_words_person1/total_words)*100)\n",
    "print(\"Total number of words sent by \", person2, \": \", total_words_person2)\n",
    "print(\"Percentage of words sent by \", person2, \": \", (total_words_person2/total_words)*100)\n",
    "print(\"Most number of messages by \", person1, \" in 1 day: \", df_person1.resample('d').sum().message.max())\n",
    "print(\"Most number of messages by \", person2, \"in 1 day: \", df_person2.resample('d').sum().message.max())\n",
    "print(\"Most number of messages by \", person1, \"in 1 month: \", df_person1.resample('m').sum().message.max())\n",
    "print(\"Most number of messages by \", person2, \"in 1 month: \", df_person2.resample('m').sum().message.max())\n",
    "print(\"Most number of messages by \", person1, \"in 1 year: \", df_person1.resample('a').sum().message.max())\n",
    "print(\"Most number of messages by \", person2, \"in year: \", df_person2.resample('a').sum().message.max())\n",
    "# len(df_timestamp1['2015'])\n",
    "# len(df_timestamp1['2016-10'])\n",
    "# len(df_timestamp1['2016-10-05'])\n",
    "# len(df_timestamp1['5/3/2016':'5/4/2016'])\n",
    "\n",
    "list_words_person1 = []\n",
    "for row in df_person1['words']:\n",
    "    list_words_person1.extend(row)\n",
    "\n",
    "list_words_person2 = []\n",
    "for row in df_person2['words']:\n",
    "    list_words_person2.extend(row)\n",
    "\n",
    "counts_person1 = Counter(list_words_person1)\n",
    "print(\"Most common words by \", person1, \": \", counts_person1.most_common(10))\n",
    "counts_person2 = Counter(list_words_person2)\n",
    "print(\"Most common words by \", person2, \": \", counts_person2.most_common(10))"
   ]
  },
  {
   "cell_type": "code",
   "execution_count": null,
   "metadata": {},
   "outputs": [],
   "source": [
    "plt.plot(df_person2.resample('m').sum().message, 'r')\n",
    "plt.plot(df_person1.resample('m').sum().message, 'b')\n",
    "plt.xlabel(\"month\")\n",
    "plt.ylabel(\"messages per month\")\n",
    "plt.show()\n",
    "plt.plot(df_person2.resample('w').sum().message, 'r')\n",
    "plt.plot(df_person1.resample('w').sum().message, 'b')\n",
    "plt.xlabel(\"week\")\n",
    "plt.ylabel(\"messages per week\")\n",
    "plt.show()\n",
    "plt.plot(df_person2.resample('d').sum().message, 'r')\n",
    "plt.plot(df_person1.resample('d').sum().message, 'b')\n",
    "plt.xlabel(\"day\")\n",
    "plt.ylabel(\"messages per day\")\n",
    "plt.show()\n",
    "plt.plot(df_person2.resample('a').sum().message, 'r')\n",
    "plt.plot(df_person1.resample('a').sum().message, 'b')\n",
    "plt.xlabel(\"Year\")\n",
    "plt.ylabel(\"messages per year\")\n",
    "plt.show()"
   ]
  },
  {
   "cell_type": "code",
   "execution_count": null,
   "metadata": {},
   "outputs": [],
   "source": [
    "plt.plot(df_person2.resample('m').sum().number_of_words, 'r')\n",
    "plt.plot(df_person1.resample('m').sum().number_of_words, 'b')\n",
    "plt.xlabel(\"month\")\n",
    "plt.ylabel(\"words per month\")\n",
    "plt.show()\n",
    "plt.plot(df_person2.resample('w').sum().number_of_words, 'r')\n",
    "plt.plot(df_person1.resample('w').sum().number_of_words, 'b')\n",
    "plt.xlabel(\"week\")\n",
    "plt.ylabel(\"words per week\")\n",
    "plt.show()\n",
    "plt.plot(df_person2.resample('d').sum().number_of_words, 'r')\n",
    "plt.plot(df_person1.resample('d').sum().number_of_words, 'b')\n",
    "plt.xlabel(\"day\")\n",
    "plt.ylabel(\"words per day\")\n",
    "plt.show()\n",
    "plt.plot(df_person2.resample('a').sum().number_of_words, 'r')\n",
    "plt.plot(df_person1.resample('a').sum().number_of_words, 'b')\n",
    "plt.xlabel(\"Year\")\n",
    "plt.ylabel(\"words per year\")\n",
    "plt.show()"
   ]
  },
  {
   "cell_type": "code",
   "execution_count": null,
   "metadata": {
    "collapsed": true
   },
   "outputs": [],
   "source": [
    "# create a string which joins all the messages of a single person's message\n",
    "complete_messages_person1 = ' '.join(list_words_person1)\n",
    "complete_messages_person2 = ' '.join(list_words_person2)"
   ]
  },
  {
   "cell_type": "code",
   "execution_count": null,
   "metadata": {
    "collapsed": true
   },
   "outputs": [],
   "source": [
    "# Creation of wordcloud\n",
    "\n",
    "__file__ = 'Downloads'\n",
    "d = path.dirname(__file__)\n",
    "\n",
    "text = complete_messages_person2\n",
    "\n",
    "# read the mask image\n",
    "mask_image = np.array(Image.open(path.join(d, \"family_with_kid_mask.png\")))\n",
    "\n",
    "stopwords = set(STOPWORDS)\n",
    "wc = WordCloud(background_color=\"white\", max_words=2000, mask=mask_image, stopwords=stopwords)\n",
    "wc.generate(text)\n",
    "\n",
    "# store to file\n",
    "wc.to_file(path.join(d, \"new_image.png\"))\n",
    "image = wc.to_image()\n",
    "image.show()"
   ]
  },
  {
   "cell_type": "code",
   "execution_count": null,
   "metadata": {},
   "outputs": [],
   "source": [
    "##############     for finding word in chat\n",
    "j = 0\n",
    "k = 0\n",
    "for line in lines:\n",
    "    j += 1\n",
    "    if('lava' in line):\n",
    "        k += 1\n",
    "        print(j)\n",
    "        break #remove break if you want to know all occourences\n",
    "#     for i in line:\n",
    "#         if(i == 'cool'):\n",
    "#             print(j)"
   ]
  }
 ],
 "metadata": {
  "kernelspec": {
   "display_name": "Python 3",
   "language": "python",
   "name": "python3"
  },
  "language_info": {
   "codemirror_mode": {
    "name": "ipython",
    "version": 3
   },
   "file_extension": ".py",
   "mimetype": "text/x-python",
   "name": "python",
   "nbconvert_exporter": "python",
   "pygments_lexer": "ipython3",
   "version": "3.6.2"
  }
 },
 "nbformat": 4,
 "nbformat_minor": 2
}
